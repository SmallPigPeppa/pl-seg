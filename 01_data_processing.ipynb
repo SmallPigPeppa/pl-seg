{
 "cells": [
  {
   "cell_type": "code",
   "execution_count": null,
   "id": "a854bbf5-b089-4f8d-8bc0-a956c2f057bd",
   "metadata": {},
   "outputs": [],
   "source": [
    "import wandb\n",
    "from fastai.vision.all import *"
   ]
  },
  {
   "cell_type": "code",
   "execution_count": null,
   "id": "41d8bc4b-fbad-4d44-9154-095540469967",
   "metadata": {},
   "outputs": [],
   "source": [
    "path = untar_data(URLs.CAMVID)\n",
    "codes = np.loadtxt(path/'codes.txt', dtype=str)\n",
    "fnames = get_image_files(path/\"images\")\n",
    "class_labels = {k: v for k, v in enumerate(codes)}"
   ]
  },
  {
   "cell_type": "code",
   "execution_count": null,
   "id": "636021ef-51af-4354-a119-94d575e10070",
   "metadata": {},
   "outputs": [],
   "source": [
    "PROJECT=\"CamVid\"\n",
    "ENTITY=\"av-demo\""
   ]
  },
  {
   "cell_type": "code",
   "execution_count": null,
   "id": "be5f0760-cce7-4cfc-96ce-7bc64f2a5614",
   "metadata": {},
   "outputs": [],
   "source": [
    "with wandb.init(\n",
    "    project=PROJECT,\n",
    "    name=\"upload_camvid\",\n",
    "    entity=ENTITY,\n",
    "    job_type=\"upload\",\n",
    "):\n",
    "    artifact = wandb.Artifact(\n",
    "        'camvid-dataset',\n",
    "        type='dataset',\n",
    "        metadata={\n",
    "            \"url\": URLs.CAMVID,\n",
    "            \"class_labels\": class_labels\n",
    "        },\n",
    "        description=\"The Cambridge-driving Labeled Video Database (CamVid) is the first collection of videos with object class semantic labels, complete with metadata. The database provides ground truth labels that associate each pixel with one of 32 semantic classes.\"\n",
    "    )\n",
    "    artifact.add_dir(path)\n",
    "    wandb.log_artifact(artifact)"
   ]
  },
  {
   "cell_type": "code",
   "execution_count": null,
   "id": "5433c202-f483-423c-8bb4-f139244a54f9",
   "metadata": {},
   "outputs": [],
   "source": [
    "def label_func(fn):\n",
    "    return fn.parent.parent/\"labels\"/f\"{fn.stem}_P{fn.suffix}\""
   ]
  },
  {
   "cell_type": "code",
   "execution_count": null,
   "id": "d65adc34-9a16-4bf0-8628-4faac9f55c20",
   "metadata": {},
   "outputs": [],
   "source": [
    "def log_dataset():\n",
    "    # image_files = sorted(glob.glob(os.path.join(str(path), \"images/*.png\")))\n",
    "    # label_files = sorted(glob.glob(os.path.join(str(path), \"labels/*.png\")))\n",
    "    with wandb.init(\n",
    "        project=PROJECT,\n",
    "        name=\"visualize_camvid\",\n",
    "        entity=ENTITY,\n",
    "        job_type=\"process_dataset\"\n",
    "    ):\n",
    "        artifact = wandb.use_artifact('av-demo/CamVid/camvid-dataset:v0', type='dataset')\n",
    "        artifact_dir = artifact.download()\n",
    "        \n",
    "        image_files = get_image_files(Path(artifact_dir)/\"images\")\n",
    "        \n",
    "        table_data = []\n",
    "        \n",
    "        print(\"Creating Table...\")\n",
    "        for image_file in tqdm(image_files):\n",
    "            image = np.array(Image.open(image_file))\n",
    "            mask_data = np.array(Image.open(label_func(image_file)))\n",
    "            table_data.append([\n",
    "                str(image_file.name),\n",
    "                wandb.Image(image),\n",
    "                wandb.Image(image, masks={\n",
    "                    \"predictions\": {\n",
    "                        \"mask_data\": mask_data,\n",
    "                        \"class_labels\": class_labels\n",
    "                    }\n",
    "                })\n",
    "            ])\n",
    "        wandb.log({\"CamVid_Dataset\": wandb.Table(\n",
    "            data=table_data, columns=[\"File_Name\", \"Images\", \"Segmentation_Masks\"]\n",
    "        )})"
   ]
  },
  {
   "cell_type": "code",
   "execution_count": null,
   "id": "a96e61ad-dd9a-4f8c-93fb-469966f68c77",
   "metadata": {},
   "outputs": [],
   "source": [
    "log_dataset()"
   ]
  }
 ],
 "metadata": {
  "kernelspec": {
   "display_name": "Python 3 (ipykernel)",
   "language": "python",
   "name": "python3"
  },
  "language_info": {
   "codemirror_mode": {
    "name": "ipython",
    "version": 3
   },
   "file_extension": ".py",
   "mimetype": "text/x-python",
   "name": "python",
   "nbconvert_exporter": "python",
   "pygments_lexer": "ipython3",
   "version": "3.9.9"
  }
 },
 "nbformat": 4,
 "nbformat_minor": 5
}
